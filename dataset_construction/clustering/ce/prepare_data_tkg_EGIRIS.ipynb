{
 "cells": [
  {
   "cell_type": "code",
   "execution_count": 1,
   "id": "3e5b2c64",
   "metadata": {},
   "outputs": [],
   "source": [
    "import pandas as pd\n",
    "import json\n",
    "import os\n",
    "from tqdm import tqdm\n",
    "from collections import Counter, defaultdict\n",
    "import pickle\n",
    "import csv\n",
    "import argparse"
   ]
  },
  {
   "cell_type": "code",
   "execution_count": 2,
   "id": "05ddfa97",
   "metadata": {},
   "outputs": [],
   "source": [
    "column_types = {'EventCode': str}\n",
    "raw_data = pd.read_csv('./EGIRIS_ce_final.csv',  dtype=column_types, sep='\\t')"
   ]
  },
  {
   "cell_type": "code",
   "execution_count": 3,
   "id": "a9b66d52",
   "metadata": {},
   "outputs": [
    {
     "data": {
      "text/html": [
       "<div>\n",
       "<style scoped>\n",
       "    .dataframe tbody tr th:only-of-type {\n",
       "        vertical-align: middle;\n",
       "    }\n",
       "\n",
       "    .dataframe tbody tr th {\n",
       "        vertical-align: top;\n",
       "    }\n",
       "\n",
       "    .dataframe thead th {\n",
       "        text-align: right;\n",
       "    }\n",
       "</style>\n",
       "<table border=\"1\" class=\"dataframe\">\n",
       "  <thead>\n",
       "    <tr style=\"text-align: right;\">\n",
       "      <th></th>\n",
       "      <th>Actor1Name</th>\n",
       "      <th>EventCode</th>\n",
       "      <th>Relation_choice</th>\n",
       "      <th>Actor2Name</th>\n",
       "      <th>Md5</th>\n",
       "      <th>day</th>\n",
       "      <th>ce_id</th>\n",
       "      <th>timid</th>\n",
       "    </tr>\n",
       "  </thead>\n",
       "  <tbody>\n",
       "    <tr>\n",
       "      <th>0</th>\n",
       "      <td>US</td>\n",
       "      <td>057</td>\n",
       "      <td>Sign formal agreement</td>\n",
       "      <td>Iran</td>\n",
       "      <td>0b6cd037f3fc22ed82e0c147839ba9f9</td>\n",
       "      <td>20150219</td>\n",
       "      <td>0</td>\n",
       "      <td>0</td>\n",
       "    </tr>\n",
       "    <tr>\n",
       "      <th>1</th>\n",
       "      <td>Egypt</td>\n",
       "      <td>021</td>\n",
       "      <td>Appeal for material cooperation</td>\n",
       "      <td>Qatari government</td>\n",
       "      <td>022b9f92c6a790cb1f1e1b7e6d5986e9</td>\n",
       "      <td>20150219</td>\n",
       "      <td>-1</td>\n",
       "      <td>0</td>\n",
       "    </tr>\n",
       "    <tr>\n",
       "      <th>2</th>\n",
       "      <td>Iran</td>\n",
       "      <td>031</td>\n",
       "      <td>Express intent to engage in material cooperation</td>\n",
       "      <td>Russia</td>\n",
       "      <td>3a4bb7378ab66388eee2ab5657ae794f</td>\n",
       "      <td>20150219</td>\n",
       "      <td>-1</td>\n",
       "      <td>0</td>\n",
       "    </tr>\n",
       "    <tr>\n",
       "      <th>3</th>\n",
       "      <td>King Hussein</td>\n",
       "      <td>013</td>\n",
       "      <td>Make optimistic comment</td>\n",
       "      <td>Israel</td>\n",
       "      <td>b8c6ea9a1d38101ce4d5f8ea673b404a</td>\n",
       "      <td>20150219</td>\n",
       "      <td>-1</td>\n",
       "      <td>0</td>\n",
       "    </tr>\n",
       "    <tr>\n",
       "      <th>4</th>\n",
       "      <td>Hezbollah</td>\n",
       "      <td>1431</td>\n",
       "      <td>Conduct strike or boycott for leadership change</td>\n",
       "      <td>Qatar</td>\n",
       "      <td>2604cc86179d28276f48d69594531be3</td>\n",
       "      <td>20150219</td>\n",
       "      <td>-1</td>\n",
       "      <td>0</td>\n",
       "    </tr>\n",
       "    <tr>\n",
       "      <th>...</th>\n",
       "      <td>...</td>\n",
       "      <td>...</td>\n",
       "      <td>...</td>\n",
       "      <td>...</td>\n",
       "      <td>...</td>\n",
       "      <td>...</td>\n",
       "      <td>...</td>\n",
       "      <td>...</td>\n",
       "    </tr>\n",
       "    <tr>\n",
       "      <th>455872</th>\n",
       "      <td>Dmitry Peskov</td>\n",
       "      <td>1222</td>\n",
       "      <td>Reject request for military aid</td>\n",
       "      <td>Ukraine</td>\n",
       "      <td>9592dd1b296aa51f5b2053e8311659e2</td>\n",
       "      <td>20220317</td>\n",
       "      <td>4395</td>\n",
       "      <td>2583</td>\n",
       "    </tr>\n",
       "    <tr>\n",
       "      <th>455873</th>\n",
       "      <td>Ukraine</td>\n",
       "      <td>093</td>\n",
       "      <td>Investigate military action</td>\n",
       "      <td>Russia</td>\n",
       "      <td>dafe15f7bc95e33b171b5663fc55b735</td>\n",
       "      <td>20220317</td>\n",
       "      <td>4395</td>\n",
       "      <td>2583</td>\n",
       "    </tr>\n",
       "    <tr>\n",
       "      <th>455874</th>\n",
       "      <td>Russia</td>\n",
       "      <td>1421</td>\n",
       "      <td>Conduct hunger strike for leadership change</td>\n",
       "      <td>Ukraine</td>\n",
       "      <td>0647d97fcb81a6f13c8b606058e4109a</td>\n",
       "      <td>20220317</td>\n",
       "      <td>4395</td>\n",
       "      <td>2583</td>\n",
       "    </tr>\n",
       "    <tr>\n",
       "      <th>455875</th>\n",
       "      <td>Ukraine</td>\n",
       "      <td>150</td>\n",
       "      <td>Exhibit military or police power</td>\n",
       "      <td>Russia</td>\n",
       "      <td>c43e61753acf9cd4c4617109f7130ae5</td>\n",
       "      <td>20220317</td>\n",
       "      <td>4396</td>\n",
       "      <td>2583</td>\n",
       "    </tr>\n",
       "    <tr>\n",
       "      <th>455876</th>\n",
       "      <td>Israel</td>\n",
       "      <td>1421</td>\n",
       "      <td>Conduct hunger strike for leadership change</td>\n",
       "      <td>US</td>\n",
       "      <td>1263a7de05fd3ec2374e7f36c46fd24c</td>\n",
       "      <td>20220317</td>\n",
       "      <td>-1</td>\n",
       "      <td>2583</td>\n",
       "    </tr>\n",
       "  </tbody>\n",
       "</table>\n",
       "<p>455877 rows × 8 columns</p>\n",
       "</div>"
      ],
      "text/plain": [
       "           Actor1Name EventCode   \n",
       "0                  US       057  \\\n",
       "1               Egypt       021   \n",
       "2                Iran       031   \n",
       "3        King Hussein       013   \n",
       "4           Hezbollah      1431   \n",
       "...               ...       ...   \n",
       "455872  Dmitry Peskov      1222   \n",
       "455873        Ukraine       093   \n",
       "455874         Russia      1421   \n",
       "455875        Ukraine       150   \n",
       "455876         Israel      1421   \n",
       "\n",
       "                                         Relation_choice         Actor2Name   \n",
       "0                                  Sign formal agreement               Iran  \\\n",
       "1                        Appeal for material cooperation  Qatari government   \n",
       "2       Express intent to engage in material cooperation             Russia   \n",
       "3                                Make optimistic comment             Israel   \n",
       "4        Conduct strike or boycott for leadership change              Qatar   \n",
       "...                                                  ...                ...   \n",
       "455872                   Reject request for military aid            Ukraine   \n",
       "455873                       Investigate military action             Russia   \n",
       "455874       Conduct hunger strike for leadership change            Ukraine   \n",
       "455875                  Exhibit military or police power             Russia   \n",
       "455876       Conduct hunger strike for leadership change                 US   \n",
       "\n",
       "                                     Md5       day  ce_id  timid  \n",
       "0       0b6cd037f3fc22ed82e0c147839ba9f9  20150219      0      0  \n",
       "1       022b9f92c6a790cb1f1e1b7e6d5986e9  20150219     -1      0  \n",
       "2       3a4bb7378ab66388eee2ab5657ae794f  20150219     -1      0  \n",
       "3       b8c6ea9a1d38101ce4d5f8ea673b404a  20150219     -1      0  \n",
       "4       2604cc86179d28276f48d69594531be3  20150219     -1      0  \n",
       "...                                  ...       ...    ...    ...  \n",
       "455872  9592dd1b296aa51f5b2053e8311659e2  20220317   4395   2583  \n",
       "455873  dafe15f7bc95e33b171b5663fc55b735  20220317   4395   2583  \n",
       "455874  0647d97fcb81a6f13c8b606058e4109a  20220317   4395   2583  \n",
       "455875  c43e61753acf9cd4c4617109f7130ae5  20220317   4396   2583  \n",
       "455876  1263a7de05fd3ec2374e7f36c46fd24c  20220317     -1   2583  \n",
       "\n",
       "[455877 rows x 8 columns]"
      ]
     },
     "execution_count": 3,
     "metadata": {},
     "output_type": "execute_result"
    }
   ],
   "source": [
    "raw_data"
   ]
  },
  {
   "cell_type": "code",
   "execution_count": 5,
   "id": "44db7f91",
   "metadata": {},
   "outputs": [],
   "source": [
    "unique_time = raw_data['day'].unique()\n",
    "assert all(unique_time == sorted(unique_time))\n",
    "tim2id = {name: idx for idx, name in enumerate(unique_time)}\n",
    "with open('./data_tkg_EGIRIS/date2id.txt', 'w') as f:\n",
    "    for k, v in tim2id.items():\n",
    "        f.write(f\"{k}\\t{v}\\n\")"
   ]
  },
  {
   "cell_type": "code",
   "execution_count": 6,
   "id": "6ce26a27",
   "metadata": {},
   "outputs": [],
   "source": [
    "max_date = raw_data['day'].max()\n",
    "valid_split = tim2id[raw_data['day'].max()-10000]\n",
    "train_split = tim2id[raw_data['day'].max()-20000]"
   ]
  },
  {
   "cell_type": "code",
   "execution_count": 7,
   "id": "ae60f741",
   "metadata": {},
   "outputs": [],
   "source": [
    "train_df = raw_data[raw_data['timid'] <= train_split]\n",
    "val_df = raw_data[(raw_data['timid'] > train_split) & (raw_data['timid'] <= valid_split)]\n",
    "test_df = raw_data[raw_data['timid'] > valid_split]"
   ]
  },
  {
   "cell_type": "code",
   "execution_count": 9,
   "id": "2d6fd786",
   "metadata": {},
   "outputs": [],
   "source": [
    "anchor_ent = (train_df['Actor1Name']._append(train_df['Actor2Name'])).unique()\n",
    "anchor_rel = train_df['EventCode'].unique()"
   ]
  },
  {
   "cell_type": "code",
   "execution_count": 10,
   "id": "5fe20fcd",
   "metadata": {},
   "outputs": [
    {
     "name": "stdout",
     "output_type": "stream",
     "text": [
      "360190\n",
      "49125\n",
      "46562\n"
     ]
    }
   ],
   "source": [
    "print(len(train_df))\n",
    "print(len(val_df))\n",
    "print(len(test_df))"
   ]
  },
  {
   "cell_type": "code",
   "execution_count": 11,
   "id": "54ad420c",
   "metadata": {},
   "outputs": [],
   "source": [
    "val_df = val_df[val_df['EventCode'].isin(anchor_rel)]\n",
    "test_df = test_df[test_df['EventCode'].isin(anchor_rel)]\n",
    "val_df = val_df[(val_df['Actor1Name'].isin(anchor_ent)) & (val_df['Actor2Name'].isin(anchor_ent))]\n",
    "test_df = test_df[(test_df['Actor1Name'].isin(anchor_ent)) & (test_df['Actor2Name'].isin(anchor_ent))]"
   ]
  },
  {
   "cell_type": "code",
   "execution_count": 12,
   "id": "5e75b877",
   "metadata": {},
   "outputs": [
    {
     "name": "stdout",
     "output_type": "stream",
     "text": [
      "360190\n",
      "49125\n",
      "46562\n"
     ]
    }
   ],
   "source": [
    "print(len(train_df))\n",
    "print(len(val_df))\n",
    "print(len(test_df))"
   ]
  },
  {
   "cell_type": "code",
   "execution_count": 15,
   "id": "d74e5aed",
   "metadata": {},
   "outputs": [
    {
     "name": "stdout",
     "output_type": "stream",
     "text": [
      "201925\n",
      "26254\n",
      "25657\n"
     ]
    }
   ],
   "source": [
    "print(len(train_df['Md5'].unique()))\n",
    "print(len(val_df['Md5'].unique()))\n",
    "print(len(test_df['Md5'].unique()))"
   ]
  },
  {
   "cell_type": "code",
   "execution_count": 16,
   "id": "e3a6e535",
   "metadata": {},
   "outputs": [
    {
     "name": "stdout",
     "output_type": "stream",
     "text": [
      "455877\n",
      "253836\n"
     ]
    }
   ],
   "source": [
    "print(len(raw_data))\n",
    "print(len(raw_data['Md5'].unique()))"
   ]
  },
  {
   "cell_type": "code",
   "execution_count": 17,
   "id": "001e4237",
   "metadata": {},
   "outputs": [
    {
     "name": "stdout",
     "output_type": "stream",
     "text": [
      "2794\n",
      "1790\n",
      "1772\n",
      "2794\n"
     ]
    }
   ],
   "source": [
    "print(len(train_df['Actor1Name']._append(train_df['Actor2Name']).unique()))\n",
    "print(len(val_df['Actor1Name']._append(val_df['Actor2Name']).unique()))\n",
    "print(len(test_df['Actor1Name']._append(test_df['Actor2Name']).unique()))\n",
    "print(len(raw_data['Actor1Name']._append(raw_data['Actor2Name']).unique()))"
   ]
  },
  {
   "cell_type": "code",
   "execution_count": 19,
   "id": "6817f0e5",
   "metadata": {},
   "outputs": [
    {
     "name": "stdout",
     "output_type": "stream",
     "text": [
      "234\n",
      "192\n",
      "196\n",
      "234\n"
     ]
    }
   ],
   "source": [
    "print(len(train_df['EventCode'].unique()))\n",
    "print(len(val_df['EventCode'].unique()))\n",
    "print(len(test_df['EventCode'].unique()))\n",
    "print(len(raw_data['EventCode'].unique()))"
   ]
  },
  {
   "cell_type": "code",
   "execution_count": 14,
   "id": "dd907ccd",
   "metadata": {},
   "outputs": [],
   "source": [
    "curate_df = pd.concat([train_df, val_df, test_df], axis=0)\n",
    "\n",
    "unique_entity = curate_df['Actor1Name']._append(curate_df['Actor2Name']).unique()\n",
    "unique_relation = curate_df['EventCode'].unique()\n",
    "\n",
    "ent2id = {name: idx for idx, name in enumerate(unique_entity)}\n",
    "rel2id = {name: idx for idx, name in enumerate(unique_relation)}\n",
    "\n",
    "output_df = pd.DataFrame()\n",
    "output_df['actor1id'] = curate_df['Actor1Name'].map(lambda x: ent2id[x])\n",
    "output_df['eventid'] = curate_df['EventCode'].map(lambda x: rel2id[x])\n",
    "output_df['actor2id'] = curate_df['Actor2Name'].map(lambda x: ent2id[x])\n",
    "output_df['timid'] = curate_df['timid']\n",
    "\n",
    "output_train = output_df[output_df['timid'] <= train_split]\n",
    "output_val = output_df[(output_df['timid'] > train_split) & (output_df['timid'] <= valid_split)]\n",
    "output_test = output_df[output_df['timid'] > valid_split]"
   ]
  },
  {
   "cell_type": "code",
   "execution_count": 21,
   "id": "49b6c520",
   "metadata": {},
   "outputs": [],
   "source": [
    "train_stat_ent = Counter(output_train['actor1id']._append(output_train['actor2id']))\n",
    "train_stat_rel = Counter(output_train['eventid'])\n",
    "\n",
    "split_num_ent = sum(train_stat_ent.values()) // 3\n",
    "split_num_rel = sum(train_stat_rel.values()) // 3\n",
    "train_stat_ent = sorted(train_stat_ent.items(), key=lambda item: item[1], reverse=True)\n",
    "train_stat_rel = sorted(train_stat_rel.items(), key=lambda item: item[1], reverse=True)\n",
    "\n",
    "sparsity_split_ent = {}\n",
    "sparsity_split_rel = {}\n",
    "\n",
    "total_freq_ent = 0\n",
    "for ontology_id, freq in train_stat_ent:\n",
    "    if total_freq_ent <= split_num_ent:\n",
    "        sparsity_split_ent[ontology_id] = 'high'\n",
    "    elif split_num_ent < total_freq_ent <= 2 * split_num_ent:\n",
    "        sparsity_split_ent[ontology_id] = 'mid'\n",
    "    elif 2 * split_num_ent < total_freq_ent <= int(7 / 3 * split_num_ent):\n",
    "        sparsity_split_ent[ontology_id] = 'relatively low'\n",
    "    elif int(7 / 3 * split_num_ent) < total_freq_ent <= int(8 / 3 * split_num_ent):\n",
    "        sparsity_split_ent[ontology_id] = 'moderately low'\n",
    "    else:\n",
    "        sparsity_split_ent[ontology_id] = 'extremely low'\n",
    "\n",
    "    total_freq_ent += freq\n",
    "\n",
    "total_freq_rel = 0\n",
    "for ontology_id, freq in train_stat_rel:\n",
    "    if total_freq_rel <= split_num_rel:\n",
    "        sparsity_split_rel[ontology_id] = 'high'\n",
    "    elif split_num_rel < total_freq_rel <= 2 * split_num_rel:\n",
    "        sparsity_split_rel[ontology_id] = 'mid'\n",
    "    elif 2 * split_num_rel < total_freq_rel <= int(7 / 3 * split_num_rel):\n",
    "        sparsity_split_rel[ontology_id] = 'relatively low'\n",
    "    elif int(7 / 3 * split_num_rel) < total_freq_rel <= int(8 / 3 * split_num_rel):\n",
    "        sparsity_split_rel[ontology_id] = 'moderately low'\n",
    "    else:\n",
    "        sparsity_split_rel[ontology_id] = 'extremely low'\n",
    "\n",
    "    total_freq_rel += freq\n",
    "\n",
    "from collections import defaultdict\n",
    "stat_dict = defaultdict(int)\n",
    "for k, v in sparsity_split_ent.items():\n",
    "    stat_dict[v] += 1"
   ]
  },
  {
   "cell_type": "code",
   "execution_count": 23,
   "id": "5984c297",
   "metadata": {},
   "outputs": [],
   "source": [
    "output_path = './data_tkg_EGIRIS'\n",
    "output_train.to_csv(output_path + '/train.txt', header=None, index=None, sep='\\t', mode='a')\n",
    "output_val.to_csv(output_path + '/valid.txt', header=None, index=None, sep='\\t', mode='a')\n",
    "output_test.to_csv(output_path + '/test.txt', header=None, index=None, sep='\\t', mode='a')\n",
    "\n",
    "with open((os.path.join(output_path,'entity2id.txt')), 'w') as f:\n",
    "    temp_csv_writer = csv.writer(f, delimiter='\\t')\n",
    "    for k,v in ent2id.items():\n",
    "        temp_csv_writer.writerow([k,v])\n",
    "\n",
    "with open((os.path.join(output_path,'relation2id.txt')), 'w') as f:\n",
    "    temp_csv_writer = csv.writer(f, delimiter='\\t')\n",
    "    for k,v in rel2id.items():\n",
    "        temp_csv_writer.writerow([k,v])\n",
    "\n",
    "with open((os.path.join(output_path,'stat.txt')), 'w') as f:\n",
    "    f.write(str(len(ent2id)) + '\\t' + str(len(rel2id)))\n",
    "\n",
    "with open((os.path.join(output_path,'sparsity.pkl')), 'wb') as f:\n",
    "    pickle.dump([sparsity_split_ent, sparsity_split_rel], f)"
   ]
  },
  {
   "cell_type": "code",
   "execution_count": 24,
   "id": "9168f37e",
   "metadata": {},
   "outputs": [],
   "source": [
    "json.dump(ent2id, open('./data_tkg_EGIRIS/ent2id_dict.json', 'w'), indent=4)\n",
    "json.dump(rel2id, open('./data_tkg_EGIRIS/rel2id_dict.json', 'w'), indent=4)"
   ]
  }
 ],
 "metadata": {
  "kernelspec": {
   "display_name": "Python 3 (ipykernel)",
   "language": "python",
   "name": "python3"
  },
  "language_info": {
   "codemirror_mode": {
    "name": "ipython",
    "version": 3
   },
   "file_extension": ".py",
   "mimetype": "text/x-python",
   "name": "python",
   "nbconvert_exporter": "python",
   "pygments_lexer": "ipython3",
   "version": "3.9.16"
  }
 },
 "nbformat": 4,
 "nbformat_minor": 5
}
