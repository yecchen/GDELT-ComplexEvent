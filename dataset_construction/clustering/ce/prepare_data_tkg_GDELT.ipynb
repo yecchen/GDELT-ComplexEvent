{
 "cells": [
  {
   "cell_type": "code",
   "execution_count": 1,
   "id": "3e5b2c64",
   "metadata": {},
   "outputs": [],
   "source": [
    "import pandas as pd\n",
    "import json\n",
    "import os\n",
    "from tqdm import tqdm\n",
    "from collections import Counter, defaultdict\n",
    "import pickle\n",
    "import csv\n",
    "import argparse"
   ]
  },
  {
   "cell_type": "code",
   "execution_count": 2,
   "id": "05ddfa97",
   "metadata": {},
   "outputs": [],
   "source": [
    "column_types = {'EventCode': str}\n",
    "raw_data = pd.read_csv('./GDELT_ce_final.csv',  dtype=column_types, sep='\\t')"
   ]
  },
  {
   "cell_type": "code",
   "execution_count": 3,
   "id": "a9b66d52",
   "metadata": {},
   "outputs": [
    {
     "data": {
      "text/html": [
       "<div>\n",
       "<style scoped>\n",
       "    .dataframe tbody tr th:only-of-type {\n",
       "        vertical-align: middle;\n",
       "    }\n",
       "\n",
       "    .dataframe tbody tr th {\n",
       "        vertical-align: top;\n",
       "    }\n",
       "\n",
       "    .dataframe thead th {\n",
       "        text-align: right;\n",
       "    }\n",
       "</style>\n",
       "<table border=\"1\" class=\"dataframe\">\n",
       "  <thead>\n",
       "    <tr style=\"text-align: right;\">\n",
       "      <th></th>\n",
       "      <th>Actor1Name</th>\n",
       "      <th>Actor2Name</th>\n",
       "      <th>EventCode</th>\n",
       "      <th>Actor1ADM1Code</th>\n",
       "      <th>Actor2ADM1Code</th>\n",
       "      <th>EventADM1Code</th>\n",
       "      <th>day</th>\n",
       "      <th>timid</th>\n",
       "      <th>year</th>\n",
       "      <th>Md5</th>\n",
       "      <th>ce_id</th>\n",
       "      <th>Md5_list</th>\n",
       "    </tr>\n",
       "  </thead>\n",
       "  <tbody>\n",
       "    <tr>\n",
       "      <th>0</th>\n",
       "      <td>IRAN</td>\n",
       "      <td>WENDY SHERMAN</td>\n",
       "      <td>46</td>\n",
       "      <td>IR</td>\n",
       "      <td>IR</td>\n",
       "      <td>US</td>\n",
       "      <td>20150219</td>\n",
       "      <td>0</td>\n",
       "      <td>2015</td>\n",
       "      <td>c109d1e16caa8aff4fced57a8c4045a0</td>\n",
       "      <td>0</td>\n",
       "      <td>c109d1e16caa8aff4fced57a8c4045a0</td>\n",
       "    </tr>\n",
       "    <tr>\n",
       "      <th>1</th>\n",
       "      <td>ISRAEL</td>\n",
       "      <td>IRAN</td>\n",
       "      <td>50</td>\n",
       "      <td>US</td>\n",
       "      <td>IS</td>\n",
       "      <td>US</td>\n",
       "      <td>20150219</td>\n",
       "      <td>0</td>\n",
       "      <td>2015</td>\n",
       "      <td>6d40d295cd67747ee9b56cc2c8099cfd</td>\n",
       "      <td>-1</td>\n",
       "      <td>6d40d295cd67747ee9b56cc2c8099cfd</td>\n",
       "    </tr>\n",
       "    <tr>\n",
       "      <th>2</th>\n",
       "      <td>ITALIAN</td>\n",
       "      <td>EGYPT</td>\n",
       "      <td>40</td>\n",
       "      <td>EG</td>\n",
       "      <td>EG</td>\n",
       "      <td>EG</td>\n",
       "      <td>20150219</td>\n",
       "      <td>0</td>\n",
       "      <td>2015</td>\n",
       "      <td>edf3db2729f3e81b20e446b94f7a6b6a</td>\n",
       "      <td>-1</td>\n",
       "      <td>edf3db2729f3e81b20e446b94f7a6b6a</td>\n",
       "    </tr>\n",
       "    <tr>\n",
       "      <th>3</th>\n",
       "      <td>THE US</td>\n",
       "      <td>CITIZEN</td>\n",
       "      <td>10</td>\n",
       "      <td>IS</td>\n",
       "      <td>IS</td>\n",
       "      <td>IS</td>\n",
       "      <td>20150219</td>\n",
       "      <td>0</td>\n",
       "      <td>2015</td>\n",
       "      <td>72dcb54c9b49830caefdad4bb7453d3c</td>\n",
       "      <td>-1</td>\n",
       "      <td>72dcb54c9b49830caefdad4bb7453d3c</td>\n",
       "    </tr>\n",
       "    <tr>\n",
       "      <th>4</th>\n",
       "      <td>KINGDOM</td>\n",
       "      <td>EGYPT</td>\n",
       "      <td>57</td>\n",
       "      <td>IZ</td>\n",
       "      <td>IZ</td>\n",
       "      <td>EG</td>\n",
       "      <td>20150219</td>\n",
       "      <td>0</td>\n",
       "      <td>2015</td>\n",
       "      <td>fea4f048e58509eb5ce3a95a356d3f3f</td>\n",
       "      <td>-1</td>\n",
       "      <td>fea4f048e58509eb5ce3a95a356d3f3f</td>\n",
       "    </tr>\n",
       "    <tr>\n",
       "      <th>...</th>\n",
       "      <td>...</td>\n",
       "      <td>...</td>\n",
       "      <td>...</td>\n",
       "      <td>...</td>\n",
       "      <td>...</td>\n",
       "      <td>...</td>\n",
       "      <td>...</td>\n",
       "      <td>...</td>\n",
       "      <td>...</td>\n",
       "      <td>...</td>\n",
       "      <td>...</td>\n",
       "      <td>...</td>\n",
       "    </tr>\n",
       "    <tr>\n",
       "      <th>1201876</th>\n",
       "      <td>UKRAINIAN</td>\n",
       "      <td>ISRAEL</td>\n",
       "      <td>51</td>\n",
       "      <td>UP</td>\n",
       "      <td>IS</td>\n",
       "      <td>IS</td>\n",
       "      <td>20220317</td>\n",
       "      <td>2583</td>\n",
       "      <td>2022</td>\n",
       "      <td>87a046d58f0a05e2c9c1bb9bd826b594</td>\n",
       "      <td>4532</td>\n",
       "      <td>87a046d58f0a05e2c9c1bb9bd826b594</td>\n",
       "    </tr>\n",
       "    <tr>\n",
       "      <th>1201877</th>\n",
       "      <td>UKRAINE</td>\n",
       "      <td>ISRAEL</td>\n",
       "      <td>42</td>\n",
       "      <td>UP</td>\n",
       "      <td>IS</td>\n",
       "      <td>UP</td>\n",
       "      <td>20220317</td>\n",
       "      <td>2583</td>\n",
       "      <td>2022</td>\n",
       "      <td>7b4bab0e38720b867a170944cf233c9b</td>\n",
       "      <td>4532</td>\n",
       "      <td>7b4bab0e38720b867a170944cf233c9b</td>\n",
       "    </tr>\n",
       "    <tr>\n",
       "      <th>1201878</th>\n",
       "      <td>UKRAINE</td>\n",
       "      <td>BRITISH</td>\n",
       "      <td>84</td>\n",
       "      <td>IR</td>\n",
       "      <td>IR</td>\n",
       "      <td>IR</td>\n",
       "      <td>20220317</td>\n",
       "      <td>2583</td>\n",
       "      <td>2022</td>\n",
       "      <td>3f48fb321a6a8e00f5f8a2c1fd756b87</td>\n",
       "      <td>4479</td>\n",
       "      <td>3f48fb321a6a8e00f5f8a2c1fd756b87</td>\n",
       "    </tr>\n",
       "    <tr>\n",
       "      <th>1201879</th>\n",
       "      <td>IRAN</td>\n",
       "      <td>BRITAIN</td>\n",
       "      <td>841</td>\n",
       "      <td>IR</td>\n",
       "      <td>IR</td>\n",
       "      <td>IR</td>\n",
       "      <td>20220317</td>\n",
       "      <td>2583</td>\n",
       "      <td>2022</td>\n",
       "      <td>079db1b369ae3926f797e3e88e072877</td>\n",
       "      <td>-1</td>\n",
       "      <td>079db1b369ae3926f797e3e88e072877</td>\n",
       "    </tr>\n",
       "    <tr>\n",
       "      <th>1201880</th>\n",
       "      <td>DEFENSE MINIST</td>\n",
       "      <td>IRANIAN</td>\n",
       "      <td>40</td>\n",
       "      <td>IS</td>\n",
       "      <td>IR</td>\n",
       "      <td>IR</td>\n",
       "      <td>20220317</td>\n",
       "      <td>2583</td>\n",
       "      <td>2022</td>\n",
       "      <td>7b4bab0e38720b867a170944cf233c9b</td>\n",
       "      <td>-1</td>\n",
       "      <td>7b4bab0e38720b867a170944cf233c9b</td>\n",
       "    </tr>\n",
       "  </tbody>\n",
       "</table>\n",
       "<p>1201881 rows × 12 columns</p>\n",
       "</div>"
      ],
      "text/plain": [
       "             Actor1Name     Actor2Name EventCode Actor1ADM1Code   \n",
       "0                  IRAN  WENDY SHERMAN        46             IR  \\\n",
       "1                ISRAEL           IRAN        50             US   \n",
       "2               ITALIAN          EGYPT        40             EG   \n",
       "3                THE US        CITIZEN        10             IS   \n",
       "4               KINGDOM          EGYPT        57             IZ   \n",
       "...                 ...            ...       ...            ...   \n",
       "1201876       UKRAINIAN         ISRAEL        51             UP   \n",
       "1201877         UKRAINE         ISRAEL        42             UP   \n",
       "1201878         UKRAINE        BRITISH        84             IR   \n",
       "1201879            IRAN        BRITAIN       841             IR   \n",
       "1201880  DEFENSE MINIST        IRANIAN        40             IS   \n",
       "\n",
       "        Actor2ADM1Code EventADM1Code       day  timid  year   \n",
       "0                   IR            US  20150219      0  2015  \\\n",
       "1                   IS            US  20150219      0  2015   \n",
       "2                   EG            EG  20150219      0  2015   \n",
       "3                   IS            IS  20150219      0  2015   \n",
       "4                   IZ            EG  20150219      0  2015   \n",
       "...                ...           ...       ...    ...   ...   \n",
       "1201876             IS            IS  20220317   2583  2022   \n",
       "1201877             IS            UP  20220317   2583  2022   \n",
       "1201878             IR            IR  20220317   2583  2022   \n",
       "1201879             IR            IR  20220317   2583  2022   \n",
       "1201880             IR            IR  20220317   2583  2022   \n",
       "\n",
       "                                      Md5  ce_id   \n",
       "0        c109d1e16caa8aff4fced57a8c4045a0      0  \\\n",
       "1        6d40d295cd67747ee9b56cc2c8099cfd     -1   \n",
       "2        edf3db2729f3e81b20e446b94f7a6b6a     -1   \n",
       "3        72dcb54c9b49830caefdad4bb7453d3c     -1   \n",
       "4        fea4f048e58509eb5ce3a95a356d3f3f     -1   \n",
       "...                                   ...    ...   \n",
       "1201876  87a046d58f0a05e2c9c1bb9bd826b594   4532   \n",
       "1201877  7b4bab0e38720b867a170944cf233c9b   4532   \n",
       "1201878  3f48fb321a6a8e00f5f8a2c1fd756b87   4479   \n",
       "1201879  079db1b369ae3926f797e3e88e072877     -1   \n",
       "1201880  7b4bab0e38720b867a170944cf233c9b     -1   \n",
       "\n",
       "                                 Md5_list  \n",
       "0        c109d1e16caa8aff4fced57a8c4045a0  \n",
       "1        6d40d295cd67747ee9b56cc2c8099cfd  \n",
       "2        edf3db2729f3e81b20e446b94f7a6b6a  \n",
       "3        72dcb54c9b49830caefdad4bb7453d3c  \n",
       "4        fea4f048e58509eb5ce3a95a356d3f3f  \n",
       "...                                   ...  \n",
       "1201876  87a046d58f0a05e2c9c1bb9bd826b594  \n",
       "1201877  7b4bab0e38720b867a170944cf233c9b  \n",
       "1201878  3f48fb321a6a8e00f5f8a2c1fd756b87  \n",
       "1201879  079db1b369ae3926f797e3e88e072877  \n",
       "1201880  7b4bab0e38720b867a170944cf233c9b  \n",
       "\n",
       "[1201881 rows x 12 columns]"
      ]
     },
     "execution_count": 3,
     "metadata": {},
     "output_type": "execute_result"
    }
   ],
   "source": [
    "raw_data"
   ]
  },
  {
   "cell_type": "code",
   "execution_count": 4,
   "id": "44db7f91",
   "metadata": {},
   "outputs": [],
   "source": [
    "unique_time = raw_data['day'].unique()\n",
    "assert all(unique_time == sorted(unique_time))\n",
    "tim2id = {name: idx for idx, name in enumerate(unique_time)}\n",
    "with open('./data_tkg_GDELT/date2id.txt', 'w') as f:\n",
    "    for k, v in tim2id.items():\n",
    "        f.write(f\"{k}\\t{v}\\n\")"
   ]
  },
  {
   "cell_type": "code",
   "execution_count": 5,
   "id": "6ce26a27",
   "metadata": {},
   "outputs": [],
   "source": [
    "max_date = raw_data['day'].max()\n",
    "valid_split = tim2id[raw_data['day'].max()-10000]\n",
    "train_split = tim2id[raw_data['day'].max()-20000]"
   ]
  },
  {
   "cell_type": "code",
   "execution_count": 6,
   "id": "ae60f741",
   "metadata": {},
   "outputs": [],
   "source": [
    "train_df = raw_data[raw_data['timid'] <= train_split]\n",
    "val_df = raw_data[(raw_data['timid'] > train_split) & (raw_data['timid'] <= valid_split)]\n",
    "test_df = raw_data[raw_data['timid'] > valid_split]"
   ]
  },
  {
   "cell_type": "code",
   "execution_count": 7,
   "id": "2d6fd786",
   "metadata": {},
   "outputs": [],
   "source": [
    "anchor_ent = (train_df['Actor1Name']._append(train_df['Actor2Name'])).unique()\n",
    "anchor_rel = train_df['EventCode'].unique()"
   ]
  },
  {
   "cell_type": "code",
   "execution_count": 8,
   "id": "5fe20fcd",
   "metadata": {},
   "outputs": [
    {
     "name": "stdout",
     "output_type": "stream",
     "text": [
      "942124\n",
      "125522\n",
      "134235\n"
     ]
    }
   ],
   "source": [
    "print(len(train_df))\n",
    "print(len(val_df))\n",
    "print(len(test_df))"
   ]
  },
  {
   "cell_type": "code",
   "execution_count": 9,
   "id": "54ad420c",
   "metadata": {},
   "outputs": [],
   "source": [
    "val_df = val_df[val_df['EventCode'].isin(anchor_rel)]\n",
    "test_df = test_df[test_df['EventCode'].isin(anchor_rel)]\n",
    "val_df = val_df[(val_df['Actor1Name'].isin(anchor_ent)) & (val_df['Actor2Name'].isin(anchor_ent))]\n",
    "test_df = test_df[(test_df['Actor1Name'].isin(anchor_ent)) & (test_df['Actor2Name'].isin(anchor_ent))]"
   ]
  },
  {
   "cell_type": "code",
   "execution_count": 10,
   "id": "5e75b877",
   "metadata": {},
   "outputs": [
    {
     "name": "stdout",
     "output_type": "stream",
     "text": [
      "942124\n",
      "125522\n",
      "134235\n"
     ]
    }
   ],
   "source": [
    "print(len(train_df))\n",
    "print(len(val_df))\n",
    "print(len(test_df))"
   ]
  },
  {
   "cell_type": "code",
   "execution_count": 11,
   "id": "71502659",
   "metadata": {},
   "outputs": [
    {
     "name": "stdout",
     "output_type": "stream",
     "text": [
      "1555\n",
      "239\n"
     ]
    }
   ],
   "source": [
    "print(len(anchor_ent))\n",
    "print(len(anchor_rel))"
   ]
  },
  {
   "cell_type": "code",
   "execution_count": 12,
   "id": "d74e5aed",
   "metadata": {},
   "outputs": [
    {
     "name": "stdout",
     "output_type": "stream",
     "text": [
      "216430\n",
      "27659\n",
      "27018\n"
     ]
    }
   ],
   "source": [
    "print(len(train_df['Md5'].unique()))\n",
    "print(len(val_df['Md5'].unique()))\n",
    "print(len(test_df['Md5'].unique()))"
   ]
  },
  {
   "cell_type": "code",
   "execution_count": 14,
   "id": "bfbdcd59",
   "metadata": {},
   "outputs": [
    {
     "name": "stdout",
     "output_type": "stream",
     "text": [
      "218700\n",
      "27931\n",
      "27214\n"
     ]
    }
   ],
   "source": [
    "for df in [train_df, val_df, test_df]:\n",
    "    md5s = set()\n",
    "    for md5_list in df['Md5_list']:\n",
    "        md5s.update(md5_list.split(', '))\n",
    "    print(len(md5s))"
   ]
  },
  {
   "cell_type": "code",
   "execution_count": 15,
   "id": "001e4237",
   "metadata": {},
   "outputs": [
    {
     "name": "stdout",
     "output_type": "stream",
     "text": [
      "1555\n",
      "1328\n",
      "1342\n",
      "1555\n"
     ]
    }
   ],
   "source": [
    "print(len(train_df['Actor1Name']._append(train_df['Actor2Name']).unique()))\n",
    "print(len(val_df['Actor1Name']._append(val_df['Actor2Name']).unique()))\n",
    "print(len(test_df['Actor1Name']._append(test_df['Actor2Name']).unique()))\n",
    "print(len(raw_data['Actor1Name']._append(raw_data['Actor2Name']).unique()))"
   ]
  },
  {
   "cell_type": "code",
   "execution_count": 16,
   "id": "6817f0e5",
   "metadata": {},
   "outputs": [
    {
     "name": "stdout",
     "output_type": "stream",
     "text": [
      "239\n",
      "215\n",
      "213\n",
      "239\n"
     ]
    }
   ],
   "source": [
    "print(len(train_df['EventCode'].unique()))\n",
    "print(len(val_df['EventCode'].unique()))\n",
    "print(len(test_df['EventCode'].unique()))\n",
    "print(len(raw_data['EventCode'].unique()))"
   ]
  },
  {
   "cell_type": "code",
   "execution_count": 17,
   "id": "dd907ccd",
   "metadata": {},
   "outputs": [],
   "source": [
    "curate_df = pd.concat([train_df, val_df, test_df], axis=0)\n",
    "\n",
    "unique_entity = curate_df['Actor1Name']._append(curate_df['Actor2Name']).unique()\n",
    "unique_relation = curate_df['EventCode'].unique()\n",
    "\n",
    "ent2id = {name: idx for idx, name in enumerate(unique_entity)}\n",
    "rel2id = {name: idx for idx, name in enumerate(unique_relation)}\n",
    "\n",
    "output_df = pd.DataFrame()\n",
    "output_df['actor1id'] = curate_df['Actor1Name'].map(lambda x: ent2id[x])\n",
    "output_df['eventid'] = curate_df['EventCode'].map(lambda x: rel2id[x])\n",
    "output_df['actor2id'] = curate_df['Actor2Name'].map(lambda x: ent2id[x])\n",
    "output_df['timid'] = curate_df['timid']\n",
    "\n",
    "output_train = output_df[output_df['timid'] <= train_split]\n",
    "output_val = output_df[(output_df['timid'] > train_split) & (output_df['timid'] <= valid_split)]\n",
    "output_test = output_df[output_df['timid'] > valid_split]"
   ]
  },
  {
   "cell_type": "code",
   "execution_count": 18,
   "id": "49b6c520",
   "metadata": {},
   "outputs": [],
   "source": [
    "train_stat_ent = Counter(output_train['actor1id']._append(output_train['actor2id']))\n",
    "train_stat_rel = Counter(output_train['eventid'])\n",
    "\n",
    "split_num_ent = sum(train_stat_ent.values()) // 3\n",
    "split_num_rel = sum(train_stat_rel.values()) // 3\n",
    "train_stat_ent = sorted(train_stat_ent.items(), key=lambda item: item[1], reverse=True)\n",
    "train_stat_rel = sorted(train_stat_rel.items(), key=lambda item: item[1], reverse=True)\n",
    "\n",
    "sparsity_split_ent = {}\n",
    "sparsity_split_rel = {}\n",
    "\n",
    "total_freq_ent = 0\n",
    "for ontology_id, freq in train_stat_ent:\n",
    "    if total_freq_ent <= split_num_ent:\n",
    "        sparsity_split_ent[ontology_id] = 'high'\n",
    "    elif split_num_ent < total_freq_ent <= 2 * split_num_ent:\n",
    "        sparsity_split_ent[ontology_id] = 'mid'\n",
    "    elif 2 * split_num_ent < total_freq_ent <= int(7 / 3 * split_num_ent):\n",
    "        sparsity_split_ent[ontology_id] = 'relatively low'\n",
    "    elif int(7 / 3 * split_num_ent) < total_freq_ent <= int(8 / 3 * split_num_ent):\n",
    "        sparsity_split_ent[ontology_id] = 'moderately low'\n",
    "    else:\n",
    "        sparsity_split_ent[ontology_id] = 'extremely low'\n",
    "\n",
    "    total_freq_ent += freq\n",
    "\n",
    "total_freq_rel = 0\n",
    "for ontology_id, freq in train_stat_rel:\n",
    "    if total_freq_rel <= split_num_rel:\n",
    "        sparsity_split_rel[ontology_id] = 'high'\n",
    "    elif split_num_rel < total_freq_rel <= 2 * split_num_rel:\n",
    "        sparsity_split_rel[ontology_id] = 'mid'\n",
    "    elif 2 * split_num_rel < total_freq_rel <= int(7 / 3 * split_num_rel):\n",
    "        sparsity_split_rel[ontology_id] = 'relatively low'\n",
    "    elif int(7 / 3 * split_num_rel) < total_freq_rel <= int(8 / 3 * split_num_rel):\n",
    "        sparsity_split_rel[ontology_id] = 'moderately low'\n",
    "    else:\n",
    "        sparsity_split_rel[ontology_id] = 'extremely low'\n",
    "\n",
    "    total_freq_rel += freq\n",
    "\n",
    "from collections import defaultdict\n",
    "stat_dict = defaultdict(int)\n",
    "for k, v in sparsity_split_ent.items():\n",
    "    stat_dict[v] += 1"
   ]
  },
  {
   "cell_type": "code",
   "execution_count": 19,
   "id": "5984c297",
   "metadata": {},
   "outputs": [],
   "source": [
    "output_path = './data_tkg_GDELT'\n",
    "output_train.to_csv(output_path + '/train.txt', header=None, index=None, sep='\\t', mode='a')\n",
    "output_val.to_csv(output_path + '/valid.txt', header=None, index=None, sep='\\t', mode='a')\n",
    "output_test.to_csv(output_path + '/test.txt', header=None, index=None, sep='\\t', mode='a')\n",
    "\n",
    "with open((os.path.join(output_path,'entity2id.txt')), 'w') as f:\n",
    "    temp_csv_writer = csv.writer(f, delimiter='\\t')\n",
    "    for k,v in ent2id.items():\n",
    "        temp_csv_writer.writerow([k,v])\n",
    "\n",
    "with open((os.path.join(output_path,'relation2id.txt')), 'w') as f:\n",
    "    temp_csv_writer = csv.writer(f, delimiter='\\t')\n",
    "    for k,v in rel2id.items():\n",
    "        temp_csv_writer.writerow([k,v])\n",
    "\n",
    "with open((os.path.join(output_path,'stat.txt')), 'w') as f:\n",
    "    f.write(str(len(ent2id)) + '\\t' + str(len(rel2id)))\n",
    "\n",
    "with open((os.path.join(output_path,'sparsity.pkl')), 'wb') as f:\n",
    "    pickle.dump([sparsity_split_ent, sparsity_split_rel], f)"
   ]
  },
  {
   "cell_type": "code",
   "execution_count": 20,
   "id": "9168f37e",
   "metadata": {},
   "outputs": [],
   "source": [
    "json.dump(ent2id, open('./data_tkg_GDELT/ent2id_dict.json', 'w'), indent=4)\n",
    "json.dump(rel2id, open('./data_tkg_GDELT/rel2id_dict.json', 'w'), indent=4)"
   ]
  }
 ],
 "metadata": {
  "kernelspec": {
   "display_name": "Python 3 (ipykernel)",
   "language": "python",
   "name": "python3"
  },
  "language_info": {
   "codemirror_mode": {
    "name": "ipython",
    "version": 3
   },
   "file_extension": ".py",
   "mimetype": "text/x-python",
   "name": "python",
   "nbconvert_exporter": "python",
   "pygments_lexer": "ipython3",
   "version": "3.9.16"
  }
 },
 "nbformat": 4,
 "nbformat_minor": 5
}
