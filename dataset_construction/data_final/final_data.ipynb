{
 "cells": [
  {
   "cell_type": "code",
   "execution_count": 90,
   "id": "0f89bfcf",
   "metadata": {},
   "outputs": [],
   "source": [
    "import json\n",
    "import pandas as pd\n",
    "from tqdm import tqdm\n",
    "import os\n",
    "from collections import Counter\n",
    "import pickle as pkl"
   ]
  },
  {
   "cell_type": "code",
   "execution_count": null,
   "id": "d0e33fc2",
   "metadata": {},
   "outputs": [],
   "source": [
    "vicuna_raw = pd.read_csv('./EGIRIS_raw.csv', sep='\\t', dtype='string')"
   ]
  },
  {
   "cell_type": "code",
   "execution_count": null,
   "outputs": [],
   "source": [
    "dict_hier_id = json.load(open('../data/dict_hier_id.json', 'r'))\n",
    "level1s = list(dict_hier_id.keys())\n",
    "level1s_int = [str(int(x)) for x in level1s]\n",
    "level2s, level3s = [], []\n",
    "for level1, info in dict_hier_id.items():\n",
    "    for level2, level3 in info.items():\n",
    "        level2s.append(level2)\n",
    "        level3s += level3\n",
    "level2s_int = [str(int(x)) for x in level2s]\n",
    "level3s_int = [str(int(x)) for x in level3s]"
   ],
   "metadata": {
    "collapsed": false
   },
   "id": "bdf67b14d112c577"
  },
  {
   "cell_type": "markdown",
   "id": "ee22159f",
   "metadata": {},
   "source": [
    "### drop NA entity"
   ]
  },
  {
   "cell_type": "code",
   "execution_count": 34,
   "id": "b2744528",
   "metadata": {},
   "outputs": [],
   "source": [
    "vicuna_dropna = vicuna_raw.dropna()"
   ]
  },
  {
   "cell_type": "code",
   "execution_count": 56,
   "id": "2d2ba811",
   "metadata": {},
   "outputs": [
    {
     "data": {
      "text/html": [
       "<div>\n",
       "<style scoped>\n",
       "    .dataframe tbody tr th:only-of-type {\n",
       "        vertical-align: middle;\n",
       "    }\n",
       "\n",
       "    .dataframe tbody tr th {\n",
       "        vertical-align: top;\n",
       "    }\n",
       "\n",
       "    .dataframe thead th {\n",
       "        text-align: right;\n",
       "    }\n",
       "</style>\n",
       "<table border=\"1\" class=\"dataframe\">\n",
       "  <thead>\n",
       "    <tr style=\"text-align: right;\">\n",
       "      <th></th>\n",
       "      <th>Subject</th>\n",
       "      <th>Relation_id</th>\n",
       "      <th>Relation_choice</th>\n",
       "      <th>Object</th>\n",
       "      <th>Md5</th>\n",
       "      <th>Date</th>\n",
       "    </tr>\n",
       "  </thead>\n",
       "  <tbody>\n",
       "    <tr>\n",
       "      <th>0</th>\n",
       "      <td>ISIS-linked militants</td>\n",
       "      <td>011</td>\n",
       "      <td>Refuse to comment</td>\n",
       "      <td>Libya</td>\n",
       "      <td>c35549216da33b38cc5a73602fa0591a</td>\n",
       "      <td>20150219</td>\n",
       "    </tr>\n",
       "    <tr>\n",
       "      <th>1</th>\n",
       "      <td>United Kingdom foreign secretary Selwyn Lloyd</td>\n",
       "      <td>013</td>\n",
       "      <td>Make optimistic comment</td>\n",
       "      <td>United States president Dwight D. Eisenhower</td>\n",
       "      <td>3552e2c49ee502ec23019bfb07ba6fb6</td>\n",
       "      <td>20150219</td>\n",
       "    </tr>\n",
       "    <tr>\n",
       "      <th>2</th>\n",
       "      <td>European Union</td>\n",
       "      <td>071</td>\n",
       "      <td>Provide economic aid</td>\n",
       "      <td>Palestinian Authority</td>\n",
       "      <td>029d9dc7a91b489457e962f4d6bc0fe3</td>\n",
       "      <td>20150219</td>\n",
       "    </tr>\n",
       "    <tr>\n",
       "      <th>3</th>\n",
       "      <td>Defeat</td>\n",
       "      <td>060</td>\n",
       "      <td>Engage in material cooperation</td>\n",
       "      <td>Defeat</td>\n",
       "      <td>0941ffd343441274e465a9499d3c9db3</td>\n",
       "      <td>20150219</td>\n",
       "    </tr>\n",
       "    <tr>\n",
       "      <th>4</th>\n",
       "      <td>Syria, Lebanon</td>\n",
       "      <td>050</td>\n",
       "      <td>Engage in diplomatic cooperation</td>\n",
       "      <td>Hamas political leadership</td>\n",
       "      <td>859fc96157484e73268e105e6222ce53</td>\n",
       "      <td>20150219</td>\n",
       "    </tr>\n",
       "    <tr>\n",
       "      <th>...</th>\n",
       "      <td>...</td>\n",
       "      <td>...</td>\n",
       "      <td>...</td>\n",
       "      <td>...</td>\n",
       "      <td>...</td>\n",
       "      <td>...</td>\n",
       "    </tr>\n",
       "    <tr>\n",
       "      <th>1417556</th>\n",
       "      <td>Ukraine</td>\n",
       "      <td>080</td>\n",
       "      <td>Yield or concede</td>\n",
       "      <td>Israel</td>\n",
       "      <td>33469c03a101913442242e89f18899ce</td>\n",
       "      <td>20220317</td>\n",
       "    </tr>\n",
       "    <tr>\n",
       "      <th>1417557</th>\n",
       "      <td>ICC Prosecutor Karim Khan</td>\n",
       "      <td>046</td>\n",
       "      <td>Engage in negotiation</td>\n",
       "      <td>Palestinian Authority Minister of Foreign Affa...</td>\n",
       "      <td>d52355726f828f51f7deaa065f4fa451</td>\n",
       "      <td>20220317</td>\n",
       "    </tr>\n",
       "    <tr>\n",
       "      <th>1417558</th>\n",
       "      <td>Israel</td>\n",
       "      <td>061</td>\n",
       "      <td>Cooperate economically</td>\n",
       "      <td>Ukraine</td>\n",
       "      <td>9e24beca44f3a9d8a966625f97b55814</td>\n",
       "      <td>20220317</td>\n",
       "    </tr>\n",
       "    <tr>\n",
       "      <th>1417559</th>\n",
       "      <td>Ukraine</td>\n",
       "      <td>194</td>\n",
       "      <td>Fight with artillery and tanks</td>\n",
       "      <td>Russia</td>\n",
       "      <td>cac2d7644682d7109ca0d2d7a5aac8d5</td>\n",
       "      <td>20220317</td>\n",
       "    </tr>\n",
       "    <tr>\n",
       "      <th>1417560</th>\n",
       "      <td>Ukraine</td>\n",
       "      <td>100</td>\n",
       "      <td>Demand or order</td>\n",
       "      <td>Russia</td>\n",
       "      <td>dafe15f7bc95e33b171b5663fc55b735</td>\n",
       "      <td>20220317</td>\n",
       "    </tr>\n",
       "  </tbody>\n",
       "</table>\n",
       "<p>1416655 rows × 6 columns</p>\n",
       "</div>"
      ],
      "text/plain": [
       "                                               Subject Relation_id   \n",
       "0                                ISIS-linked militants         011  \\\n",
       "1        United Kingdom foreign secretary Selwyn Lloyd         013   \n",
       "2                                       European Union         071   \n",
       "3                                               Defeat         060   \n",
       "4                                       Syria, Lebanon         050   \n",
       "...                                                ...         ...   \n",
       "1417556                                        Ukraine         080   \n",
       "1417557                      ICC Prosecutor Karim Khan         046   \n",
       "1417558                                         Israel         061   \n",
       "1417559                                        Ukraine         194   \n",
       "1417560                                        Ukraine         100   \n",
       "\n",
       "                          Relation_choice   \n",
       "0                       Refuse to comment  \\\n",
       "1                 Make optimistic comment   \n",
       "2                    Provide economic aid   \n",
       "3          Engage in material cooperation   \n",
       "4        Engage in diplomatic cooperation   \n",
       "...                                   ...   \n",
       "1417556                  Yield or concede   \n",
       "1417557             Engage in negotiation   \n",
       "1417558            Cooperate economically   \n",
       "1417559    Fight with artillery and tanks   \n",
       "1417560                   Demand or order   \n",
       "\n",
       "                                                    Object   \n",
       "0                                                    Libya  \\\n",
       "1             United States president Dwight D. Eisenhower   \n",
       "2                                    Palestinian Authority   \n",
       "3                                                   Defeat   \n",
       "4                               Hamas political leadership   \n",
       "...                                                    ...   \n",
       "1417556                                             Israel   \n",
       "1417557  Palestinian Authority Minister of Foreign Affa...   \n",
       "1417558                                            Ukraine   \n",
       "1417559                                             Russia   \n",
       "1417560                                             Russia   \n",
       "\n",
       "                                      Md5      Date  \n",
       "0        c35549216da33b38cc5a73602fa0591a  20150219  \n",
       "1        3552e2c49ee502ec23019bfb07ba6fb6  20150219  \n",
       "2        029d9dc7a91b489457e962f4d6bc0fe3  20150219  \n",
       "3        0941ffd343441274e465a9499d3c9db3  20150219  \n",
       "4        859fc96157484e73268e105e6222ce53  20150219  \n",
       "...                                   ...       ...  \n",
       "1417556  33469c03a101913442242e89f18899ce  20220317  \n",
       "1417557  d52355726f828f51f7deaa065f4fa451  20220317  \n",
       "1417558  9e24beca44f3a9d8a966625f97b55814  20220317  \n",
       "1417559  cac2d7644682d7109ca0d2d7a5aac8d5  20220317  \n",
       "1417560  dafe15f7bc95e33b171b5663fc55b735  20220317  \n",
       "\n",
       "[1416655 rows x 6 columns]"
      ]
     },
     "execution_count": 56,
     "metadata": {},
     "output_type": "execute_result"
    }
   ],
   "source": [
    "vicuna_dropna"
   ]
  },
  {
   "cell_type": "code",
   "execution_count": 36,
   "id": "714fddf3",
   "metadata": {},
   "outputs": [
    {
     "name": "stdout",
     "output_type": "stream",
     "text": [
      "446657\n",
      "323822\n"
     ]
    }
   ],
   "source": [
    "print(len(vicuna_dropna['Md5'].unique()))\n",
    "print(len(pd.concat([vicuna_dropna['Subject'], vicuna_dropna['Object']]).unique()))"
   ]
  },
  {
   "cell_type": "code",
   "execution_count": 37,
   "id": "98b07a77",
   "metadata": {},
   "outputs": [],
   "source": [
    "vicuna_dropna.to_csv(path_or_buf='./EGIRIS_dropna.csv', sep='\\t', index=False)"
   ]
  },
  {
   "cell_type": "code",
   "execution_count": 38,
   "id": "b94f3971",
   "metadata": {},
   "outputs": [
    {
     "name": "stdout",
     "output_type": "stream",
     "text": [
      "267922\n",
      "972194\n",
      "176539\n"
     ]
    }
   ],
   "source": [
    "print(len(vicuna_dropna[vicuna_dropna['Relation_id'].isin(level1s)]))\n",
    "print(len(vicuna_dropna[vicuna_dropna['Relation_id'].isin(level2s)]))\n",
    "print(len(vicuna_dropna[vicuna_dropna['Relation_id'].isin(level3s)]))"
   ]
  },
  {
   "cell_type": "markdown",
   "id": "1fd09fd6",
   "metadata": {},
   "source": [
    "### filter entity by tf df"
   ]
  },
  {
   "cell_type": "code",
   "execution_count": 80,
   "id": "d7d528f1",
   "metadata": {},
   "outputs": [],
   "source": [
    "def calculate_frequency(vicuna_dropna):\n",
    "    # Entity frequency\n",
    "    term_freq = {k: v for k, v in sorted(Counter(vicuna_dropna['Subject']._append(vicuna_dropna['Object'])).items(), key=lambda item: item[1], reverse=False)}\n",
    "\n",
    "    # Document frequency\n",
    "    df = pd.concat([vicuna_dropna[['Subject', 'Md5']], vicuna_dropna[['Object', 'Md5']].rename(columns={'Object':'Subject'})])\n",
    "    unique_df = df.drop_duplicates()\n",
    "    doc_freq = unique_df.groupby('Subject')['Md5'].nunique().sort_values(ascending=True).to_dict()\n",
    "\n",
    "    return term_freq, doc_freq"
   ]
  },
  {
   "cell_type": "code",
   "execution_count": 81,
   "id": "734b682a",
   "metadata": {},
   "outputs": [
    {
     "name": "stdout",
     "output_type": "stream",
     "text": [
      "filter version 10_10: number of events: 834197\n",
      "filter version 10_10: number of entities: 6322, number of documents: 339233\n"
     ]
    }
   ],
   "source": [
    "m = 10\n",
    "n = 10\n",
    "data = vicuna_dropna.copy()\n",
    "prev_num_rows = data.shape[0]\n",
    "while True:\n",
    "    \n",
    "    term_freq, doc_freq = calculate_frequency(data)\n",
    "\n",
    "    mask_tf = data['Subject'].map(term_freq).ge(m) & data['Object'].map(term_freq).ge(m)\n",
    "    mask_df = data['Subject'].map(doc_freq).ge(n) & data['Object'].map(doc_freq).ge(n)\n",
    "\n",
    "    # Filter raw_data\n",
    "    data = data[mask_tf & mask_df]\n",
    "\n",
    "    if data.shape[0] == prev_num_rows:\n",
    "        entity_counter = Counter(data['Subject']._append(data['Object']))\n",
    "        total_entity_filter = {k: v for k, v in sorted(entity_counter.items(), key=lambda item: item[1], reverse=False)}\n",
    "\n",
    "        md5_counter = Counter(data['Md5'])\n",
    "        total_md5_filter = {k: v for k, v in sorted(md5_counter.items(), key=lambda item: item[1], reverse=False)}\n",
    "\n",
    "        print(f\"filter version {m}_{n}: number of events: {len(data)}\")\n",
    "        print(f\"filter version {m}_{n}: number of entities: {len(total_entity_filter)}, number of documents: {len(total_md5_filter)}\")\n",
    "        print()\n",
    "\n",
    "        break\n",
    "    else:\n",
    "        prev_num_rows = data.shape[0]"
   ]
  },
  {
   "cell_type": "code",
   "execution_count": 82,
   "id": "1eab66fb",
   "metadata": {},
   "outputs": [],
   "source": [
    "vicuna_tfdf = data"
   ]
  },
  {
   "cell_type": "code",
   "execution_count": 83,
   "id": "a93b7e74",
   "metadata": {},
   "outputs": [],
   "source": [
    "vicuna_tfdf.to_csv(path_or_buf='./EGIRIS_tfdf.csv', sep='\\t', index=False)"
   ]
  },
  {
   "cell_type": "code",
   "execution_count": 87,
   "id": "29a5318e",
   "metadata": {},
   "outputs": [],
   "source": [
    "vicuna_tfdf = pd.read_csv('./EGIRIS_tfdf.csv', sep='\\t', dtype='string')"
   ]
  },
  {
   "cell_type": "code",
   "execution_count": 88,
   "id": "f1c5379e",
   "metadata": {},
   "outputs": [
    {
     "data": {
      "text/html": [
       "<div>\n",
       "<style scoped>\n",
       "    .dataframe tbody tr th:only-of-type {\n",
       "        vertical-align: middle;\n",
       "    }\n",
       "\n",
       "    .dataframe tbody tr th {\n",
       "        vertical-align: top;\n",
       "    }\n",
       "\n",
       "    .dataframe thead th {\n",
       "        text-align: right;\n",
       "    }\n",
       "</style>\n",
       "<table border=\"1\" class=\"dataframe\">\n",
       "  <thead>\n",
       "    <tr style=\"text-align: right;\">\n",
       "      <th></th>\n",
       "      <th>Subject</th>\n",
       "      <th>Relation_id</th>\n",
       "      <th>Relation_choice</th>\n",
       "      <th>Object</th>\n",
       "      <th>Md5</th>\n",
       "      <th>Date</th>\n",
       "    </tr>\n",
       "  </thead>\n",
       "  <tbody>\n",
       "    <tr>\n",
       "      <th>0</th>\n",
       "      <td>European Union</td>\n",
       "      <td>071</td>\n",
       "      <td>Provide economic aid</td>\n",
       "      <td>Palestinian Authority</td>\n",
       "      <td>029d9dc7a91b489457e962f4d6bc0fe3</td>\n",
       "      <td>20150219</td>\n",
       "    </tr>\n",
       "    <tr>\n",
       "      <th>1</th>\n",
       "      <td>Democratic Party</td>\n",
       "      <td>0241</td>\n",
       "      <td>Appeal for leadership change</td>\n",
       "      <td>U.S. House of Representatives</td>\n",
       "      <td>7ab2ea40ced6f66d6335fc2da99021cc</td>\n",
       "      <td>20150219</td>\n",
       "    </tr>\n",
       "    <tr>\n",
       "      <th>2</th>\n",
       "      <td>US</td>\n",
       "      <td>057</td>\n",
       "      <td>Sign formal agreement</td>\n",
       "      <td>Iran</td>\n",
       "      <td>0b6cd037f3fc22ed82e0c147839ba9f9</td>\n",
       "      <td>20150219</td>\n",
       "    </tr>\n",
       "    <tr>\n",
       "      <th>3</th>\n",
       "      <td>United States</td>\n",
       "      <td>051</td>\n",
       "      <td>Praise or endorse</td>\n",
       "      <td>Israel</td>\n",
       "      <td>0e3390e4d38e679fc25d764528a781e4</td>\n",
       "      <td>20150219</td>\n",
       "    </tr>\n",
       "    <tr>\n",
       "      <th>4</th>\n",
       "      <td>Hamas</td>\n",
       "      <td>0212</td>\n",
       "      <td>Appeal for military cooperation</td>\n",
       "      <td>Syria, Lebanon</td>\n",
       "      <td>859fc96157484e73268e105e6222ce53</td>\n",
       "      <td>20150219</td>\n",
       "    </tr>\n",
       "    <tr>\n",
       "      <th>...</th>\n",
       "      <td>...</td>\n",
       "      <td>...</td>\n",
       "      <td>...</td>\n",
       "      <td>...</td>\n",
       "      <td>...</td>\n",
       "      <td>...</td>\n",
       "    </tr>\n",
       "    <tr>\n",
       "      <th>834192</th>\n",
       "      <td>Philippines</td>\n",
       "      <td>057</td>\n",
       "      <td>Sign formal agreement</td>\n",
       "      <td>US Vice President Kamala Harris</td>\n",
       "      <td>1b65e3f5cfb24e5883b13ddde0d6fa92</td>\n",
       "      <td>20220317</td>\n",
       "    </tr>\n",
       "    <tr>\n",
       "      <th>834193</th>\n",
       "      <td>Ukraine</td>\n",
       "      <td>080</td>\n",
       "      <td>Yield or concede</td>\n",
       "      <td>Israel</td>\n",
       "      <td>33469c03a101913442242e89f18899ce</td>\n",
       "      <td>20220317</td>\n",
       "    </tr>\n",
       "    <tr>\n",
       "      <th>834194</th>\n",
       "      <td>Israel</td>\n",
       "      <td>061</td>\n",
       "      <td>Cooperate economically</td>\n",
       "      <td>Ukraine</td>\n",
       "      <td>9e24beca44f3a9d8a966625f97b55814</td>\n",
       "      <td>20220317</td>\n",
       "    </tr>\n",
       "    <tr>\n",
       "      <th>834195</th>\n",
       "      <td>Ukraine</td>\n",
       "      <td>194</td>\n",
       "      <td>Fight with artillery and tanks</td>\n",
       "      <td>Russia</td>\n",
       "      <td>cac2d7644682d7109ca0d2d7a5aac8d5</td>\n",
       "      <td>20220317</td>\n",
       "    </tr>\n",
       "    <tr>\n",
       "      <th>834196</th>\n",
       "      <td>Ukraine</td>\n",
       "      <td>100</td>\n",
       "      <td>Demand or order</td>\n",
       "      <td>Russia</td>\n",
       "      <td>dafe15f7bc95e33b171b5663fc55b735</td>\n",
       "      <td>20220317</td>\n",
       "    </tr>\n",
       "  </tbody>\n",
       "</table>\n",
       "<p>834197 rows × 6 columns</p>\n",
       "</div>"
      ],
      "text/plain": [
       "                 Subject Relation_id                  Relation_choice   \n",
       "0         European Union         071             Provide economic aid  \\\n",
       "1       Democratic Party        0241     Appeal for leadership change   \n",
       "2                     US         057            Sign formal agreement   \n",
       "3          United States         051                Praise or endorse   \n",
       "4                  Hamas        0212  Appeal for military cooperation   \n",
       "...                  ...         ...                              ...   \n",
       "834192       Philippines         057            Sign formal agreement   \n",
       "834193           Ukraine         080                 Yield or concede   \n",
       "834194            Israel         061           Cooperate economically   \n",
       "834195           Ukraine         194   Fight with artillery and tanks   \n",
       "834196           Ukraine         100                  Demand or order   \n",
       "\n",
       "                                 Object                               Md5   \n",
       "0                 Palestinian Authority  029d9dc7a91b489457e962f4d6bc0fe3  \\\n",
       "1         U.S. House of Representatives  7ab2ea40ced6f66d6335fc2da99021cc   \n",
       "2                                  Iran  0b6cd037f3fc22ed82e0c147839ba9f9   \n",
       "3                                Israel  0e3390e4d38e679fc25d764528a781e4   \n",
       "4                        Syria, Lebanon  859fc96157484e73268e105e6222ce53   \n",
       "...                                 ...                               ...   \n",
       "834192  US Vice President Kamala Harris  1b65e3f5cfb24e5883b13ddde0d6fa92   \n",
       "834193                           Israel  33469c03a101913442242e89f18899ce   \n",
       "834194                          Ukraine  9e24beca44f3a9d8a966625f97b55814   \n",
       "834195                           Russia  cac2d7644682d7109ca0d2d7a5aac8d5   \n",
       "834196                           Russia  dafe15f7bc95e33b171b5663fc55b735   \n",
       "\n",
       "            Date  \n",
       "0       20150219  \n",
       "1       20150219  \n",
       "2       20150219  \n",
       "3       20150219  \n",
       "4       20150219  \n",
       "...          ...  \n",
       "834192  20220317  \n",
       "834193  20220317  \n",
       "834194  20220317  \n",
       "834195  20220317  \n",
       "834196  20220317  \n",
       "\n",
       "[834197 rows x 6 columns]"
      ]
     },
     "execution_count": 88,
     "metadata": {},
     "output_type": "execute_result"
    }
   ],
   "source": [
    "vicuna_tfdf"
   ]
  },
  {
   "cell_type": "code",
   "execution_count": 84,
   "id": "59377f88",
   "metadata": {},
   "outputs": [
    {
     "name": "stdout",
     "output_type": "stream",
     "text": [
      "339233\n",
      "6322\n"
     ]
    }
   ],
   "source": [
    "print(len(vicuna_tfdf['Md5'].unique()))\n",
    "print(len(pd.concat([vicuna_tfdf['Subject'], vicuna_tfdf['Object']]).unique()))"
   ]
  },
  {
   "cell_type": "code",
   "execution_count": 89,
   "id": "e05ea9df",
   "metadata": {},
   "outputs": [
    {
     "name": "stdout",
     "output_type": "stream",
     "text": [
      "167188\n",
      "559936\n",
      "107073\n"
     ]
    }
   ],
   "source": [
    "print(len(vicuna_tfdf[vicuna_tfdf['Relation_id'].isin(level1s)]))\n",
    "print(len(vicuna_tfdf[vicuna_tfdf['Relation_id'].isin(level2s)]))\n",
    "print(len(vicuna_tfdf[vicuna_tfdf['Relation_id'].isin(level3s)]))"
   ]
  }
 ],
 "metadata": {
  "kernelspec": {
   "display_name": "Python 3 (ipykernel)",
   "language": "python",
   "name": "python3"
  },
  "language_info": {
   "codemirror_mode": {
    "name": "ipython",
    "version": 3
   },
   "file_extension": ".py",
   "mimetype": "text/x-python",
   "name": "python",
   "nbconvert_exporter": "python",
   "pygments_lexer": "ipython3",
   "version": "3.9.16"
  }
 },
 "nbformat": 4,
 "nbformat_minor": 5
}
